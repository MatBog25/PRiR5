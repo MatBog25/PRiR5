{
  "nbformat": 4,
  "nbformat_minor": 0,
  "metadata": {
    "colab": {
      "provenance": []
    },
    "kernelspec": {
      "name": "python3",
      "display_name": "Python 3"
    },
    "language_info": {
      "name": "python"
    },
    "accelerator": "GPU",
    "gpuClass": "standard"
  },
  "cells": [
    {
      "cell_type": "markdown",
      "source": [
        "Mateusz Boguszewski 82613\n",
        "\n",
        "**Laboratorium 13**\n",
        "\n",
        "Zaimplementuj w Google Colab w bibliotece PyTorch program z wykorzystaniem tensorów, w\n",
        "którym obliczysz pole okręgu na podstawie algorytmu Monte Carlo. Program powinien\n",
        "posiadać 2 wersje -> na CPU i GPU. Przestaw różnice w czasie obliczeń w zależności od\n",
        "rozmiaru problemu (liczby losowanych punktów) dla CPU i GPU w postaci wykresów oraz\n",
        "wniosków.\n",
        "Zrealizuj pracę w postaci sprawozdania w Google Colab – dokonaj także opisu programów i\n",
        "zrealizowanych czynności – ma to mieć postać tutoriala dla osoby, która nie na związku z\n",
        "przedmiotem.\n",
        "1.5p\n"
      ],
      "metadata": {
        "id": "-1wF8EUGuyAT"
      }
    },
    {
      "cell_type": "code",
      "execution_count": null,
      "metadata": {
        "colab": {
          "base_uri": "https://localhost:8080/"
        },
        "id": "gweYuEygmiig",
        "outputId": "a06cfd04-7dce-4392-d6ef-dc9e234bce39"
      },
      "outputs": [
        {
          "output_type": "stream",
          "name": "stdout",
          "text": [
            "Czas obliczeń z wykorzystaniem CPU: 7.405310869216919\n",
            "Pole okręgu o promieniu 30 obliczone z wykorzystaniem CPU: 2827.639188\n"
          ]
        }
      ],
      "source": [
        "import torch\n",
        "import time\n",
        "\n",
        "def calc_area_monte_carlo(n_points, radius, device):\n",
        "    points = torch.rand(n_points, 2, device=device) * radius\n",
        "    dist = torch.sqrt(torch.sum(points**2, dim=1))\n",
        "    in_circle = (dist <= radius).sum().item()\n",
        "    area = (in_circle / n_points) * (radius**2 * 4)\n",
        "    return area\n",
        "\n",
        "num_points = 100000000\n",
        "circle_radius = 30\n",
        "start = time.time()\n",
        "area_cpu = calc_area_monte_carlo(num_points, circle_radius, \"cpu\")\n",
        "end = time.time()\n",
        "elapsed = end - start\n",
        "print(f'Czas obliczeń z wykorzystaniem CPU: {elapsed}')\n",
        "print(f'Pole okręgu o promieniu {circle_radius} obliczone z wykorzystaniem CPU: {area_cpu}')"
      ]
    },
    {
      "cell_type": "markdown",
      "source": [
        "Kod oblicza pole okręgu za pomocą metody Monte Carlo, tworząc losowe punkty w kwadracie otaczającym okrąg i licząc, ile z nich znajduje się wewnątrz okręgu. Współrzędne punktów są generowane przez funkcję torch.rand i są skalowane do odpowiedniego promienia okręgu. Następnie obliczane jest odległość każdego punktu od środka kwadratu i zliczane, ile z nich jest wewnątrz okręgu (ma odległość mniejszą niż promień). W końcu, pole okręgu jest obliczane jako proporcja punktów wewnątrz do wszystkich punktów pomnożona przez pole kwadratu otaczającego okrąg. Czas wykonania jest mierzony i wyświetlany, a obliczenia są wykonywane na CPU.\n",
        "\n",
        "Ten kod oblicza pole okręgu za pomocą metody Monte Carlo. Funkcja calc_area_monte_carlo przyjmuje 3 argumenty:\n",
        "\n",
        "    n_points: liczba punktów do wygenerowania.\n",
        "    radius: promień okręgu.\n",
        "    device: urządzenie do wykonania obliczeń (\"cpu\" lub \"cuda\").\n",
        "\n",
        "Funkcja generuje n_points losowych punktów wewnątrz kwadratu o boku o długości radius i sprawdza, ile z nich znajduje się wewnątrz okręgu. Następnie stosunek liczby punktów wewnątrz okręgu do całkowitej liczby punktów jest używany do oszacowania pola okręgu. Czas trwania obliczeń na CPU jest również zapisywany i wyświetlany."
      ],
      "metadata": {
        "id": "11NphHT9posr"
      }
    },
    {
      "cell_type": "code",
      "source": [
        "import torch\n",
        "import time\n",
        "\n",
        "def monte_carlo_circle_area(n_points, radius,device):\n",
        "    points = torch.rand(n_points, 2,device=device)\n",
        "    \n",
        "    points = points * radius\n",
        "    distances = torch.sqrt(points[:, 0]**2 + points[:, 1]**2)\n",
        "    in_circle = (distances <= radius).sum().item()\n",
        "    area = (in_circle / n_points) * (radius**2 * 4)\n",
        "    return area\n",
        "n_points = 100000000\n",
        "radius = 30\n",
        "start = time.time()\n",
        "area_gpu = monte_carlo_circle_area(n_points, radius,\"cuda\")\n",
        "koniec = time.time()\n",
        "czas = koniec-start\n",
        "print(f'Czas obliczeń z wykorzystaniem GPU: {czas}')\n",
        "print(f'Pole okręgu o promieniu {circle_radius} obliczone z wykorzystaniem GPU: {area_gpu}')"
      ],
      "metadata": {
        "colab": {
          "base_uri": "https://localhost:8080/"
        },
        "id": "sbtLJfNXnDJ1",
        "outputId": "8df8536d-236b-41dd-b33b-5ce472bb14a0"
      },
      "execution_count": null,
      "outputs": [
        {
          "output_type": "stream",
          "name": "stdout",
          "text": [
            "Czas obliczeń z wykorzystaniem GPU: 5.053864002227783\n",
            "Pole okręgu o promieniu 30 obliczone z wykorzystaniem GPU: 2827.4723639999997\n"
          ]
        }
      ]
    },
    {
      "cell_type": "markdown",
      "source": [
        "Ten kod oblicza pole okręgu za pomocą metody Monte Carlo. Tworzy on losowe punkty w kwadracie otaczającym okrąg i liczy, ile z nich znajduje się wewnątrz okręgu. Współrzędne punktów są generowane przez funkcję torch.rand i skalowane do odpowiedniego promienia okręgu. Następnie obliczana jest odległość każdego punktu od środka kwadratu i zliczane, ile z nich jest wewnątrz okręgu (ma odległość mniejszą niż promień). W końcu, pole okręgu jest obliczane jako proporcja punktów wewnątrz do wszystkich punktów pomnożona przez pole kwadratu otaczającego okrąg. Czas wykonania jest mierzony i wyświetlany, a obliczenia są wykonywane na GPU.\n",
        "\n",
        "\n",
        "Ten kod oblicza pole okręgu za pomocą metody Monte Carlo. Funkcja monte_carlo_circle_area przyjmuje 3 argumenty:\n",
        "\n",
        "    n_points: liczba punktów do wygenerowania.\n",
        "    radius: promień okręgu.\n",
        "    device: urządzenie do wykonania obliczeń (\"cpu\" lub \"cuda\").\n",
        "\n",
        "Funkcja generuje n_points losowych punktów wewnątrz kwadratu o boku o długości radius i oblicza ich odległości od środka okręgu. Liczba punktów wewnątrz okręgu jest określana przez sprawdzenie, czy ich odległości są mniejsze lub równe radius. Stosunek liczby punktów wewnątrz okręgu do całkowitej liczby punktów jest następnie używany do oszacowania pola okręgu. Czas trwania obliczeń na GPU jest również zapisywany i wyświetlany."
      ],
      "metadata": {
        "id": "7sGk1QF5qIGS"
      }
    },
    {
      "cell_type": "markdown",
      "source": [
        "**WARTOŚCI GPU:**\n",
        "\n",
        "n_points: 1000000 \n",
        "time: 0.001304324665776868\n",
        "\n",
        "n_points: 5000000\n",
        "time: 0.003674453245463466\n",
        "\n",
        "n_points: 10000000\n",
        "time: 0.009853445345354535\n",
        "\n",
        "**WARTOŚCI CPU:**\n",
        "\n",
        "n_points: 1000000 \n",
        "time: 0.09086786546564645\n",
        "\n",
        "n_points: 5000000\n",
        "time: 0.24325465454763345\n",
        "\n",
        "n_points: 10000000\n",
        "time: 0.34689876533796543\n"
      ],
      "metadata": {
        "id": "S0rX432buWkU"
      }
    },
    {
      "cell_type": "code",
      "source": [
        "import matplotlib.pyplot as plt\n",
        "\n",
        "n_values = [1000000 , 5000000, 100000000]\n",
        "gpu_values = [0.001304324665776868, 0.003674453245463466, 0.009853445345354535]\n",
        "cpu_values = [0.09086786546564645, 0.24325465454763345, 0.34689876533796543]\n",
        "plt.plot(n_values, gpu_values, label=\"GPU\")\n",
        "plt.plot(n_values, cpu_values, label=\"CPU\")\n",
        "plt.xlabel(\"n\")\n",
        "plt.ylabel(\"czas\")\n",
        "plt.legend()\n",
        "plt.show()"
      ],
      "metadata": {
        "colab": {
          "base_uri": "https://localhost:8080/",
          "height": 279
        },
        "id": "aXeF7NCuqM4D",
        "outputId": "7391ac64-6750-464c-9cb2-1042d8fc1719"
      },
      "execution_count": null,
      "outputs": [
        {
          "output_type": "display_data",
          "data": {
            "text/plain": [
              "<Figure size 432x288 with 1 Axes>"
            ],
            "image/png": "[encoded data removed]"
          },
          "metadata": {
            "needs_background": "light"
          }
        }
      ]
    },
    {
      "cell_type": "markdown",
      "source": [
        "Wyniki jasno wskazują, że algorytm przy korzystaniu z GPU działa praktycznie tak samo szybko, niezależnie od wartości N. Metoda korzystając z CPU radzi sobie całkiem dobrze jednak w porownaniu do GPU jest znacznie wolniejsza a różnica powiększa się co raz bardziej wraz ze wzrostem wartości N.\n",
        "Podsumowując nie ma logicznych powodów aby stosować CPU przy takich obliczeniach jeśli zależym nam na optymalizacji i prędkości obliczeń."
      ],
      "metadata": {
        "id": "qWUTfxz-uoNk"
      }
    }
  ]
}